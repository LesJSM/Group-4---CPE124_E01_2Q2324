{
 "cells": [
  {
   "cell_type": "code",
   "execution_count": 1,
   "id": "460fcd3a-9c0e-4616-8278-aa99b7c1d6f6",
   "metadata": {},
   "outputs": [],
   "source": [
    "import pandas as pd\n",
    "import numpy as np\n",
    "import librosa\n",
    "import librosa.display\n",
    "import os \n",
    "import matplotlib.pyplot as plt"
   ]
  },
  {
   "cell_type": "code",
   "execution_count": 2,
   "id": "bfa88caa-3771-4a80-b94a-727ffb784168",
   "metadata": {},
   "outputs": [],
   "source": [
    "metadata_path = 'D:\\CPE124-GRP4\\PartialSpeech\\metadata1.csv'\n",
    "metadata_df = pd.read_csv(metadata_path, delimiter='|', header=None, names=['audio_file', 'transcript'])"
   ]
  },
  {
   "cell_type": "code",
   "execution_count": 3,
   "id": "f3d6df86-7398-4de6-9eea-30d05efbb099",
   "metadata": {},
   "outputs": [],
   "source": [
    "def load_wav(audio_path):\n",
    "    return librosa.load(audio_path, sr=None)"
   ]
  },
  {
   "cell_type": "code",
   "execution_count": 4,
   "id": "5fcef08f-1442-45ca-bd7c-cc5b20aafab3",
   "metadata": {},
   "outputs": [],
   "source": [
    "wav_dir = 'D:\\CPE124-GRP4\\PartialSpeech\\wav'\n",
    "\n",
    "features = []  \n",
    "transcripts = []   \n",
    "\n",
    "max_length = 186\n",
    "\n",
    "for filename in os.listdir(wav_dir):\n",
    "    if filename.endswith('.wav'):\n",
    "        audio_path = os.path.join(wav_dir, filename)\n",
    "        audio_data, sample_rate = load_wav(audio_path)\n",
    "        \n",
    "        mel_spectrogram = librosa.feature.melspectrogram(y=audio_data, sr=sample_rate)\n",
    "        \n",
    "        # Determine maximum length among all mel spectrograms\n",
    "        max_mel_length = max_length  # Initialize with the desired maximum length\n",
    "\n",
    "        if mel_spectrogram.shape[1] > max_mel_length:\n",
    "            # Truncate if longer than the maximum length\n",
    "            mel_spectrogram = mel_spectrogram[:, :max_mel_length]\n",
    "        else:\n",
    "            # Pad if shorter than the maximum length\n",
    "            mel_spectrogram = np.pad(mel_spectrogram, ((0, 0), (0, max_mel_length - mel_spectrogram.shape[1])))\n",
    "\n",
    "        features.append(mel_spectrogram.T)  \n",
    "        transcripts.append('transcript')"
   ]
  },
  {
   "cell_type": "code",
   "execution_count": 5,
   "id": "4684137a-344f-4e7c-aef8-ce0019db7dff",
   "metadata": {},
   "outputs": [
    {
     "name": "stdout",
     "output_type": "stream",
     "text": [
      "Features shape: (186, 186, 128)\n",
      "Labels shape: (186,)\n"
     ]
    }
   ],
   "source": [
    "features = np.array(features)\n",
    "transcripts = np.array(transcripts)\n",
    "\n",
    "print(\"Features shape:\", features.shape)\n",
    "print(\"Labels shape:\", transcripts.shape)"
   ]
  },
  {
   "cell_type": "code",
   "execution_count": 6,
   "id": "b791197a-f5a7-4a70-a274-12f4d93df30c",
   "metadata": {},
   "outputs": [],
   "source": [
    "from sklearn.model_selection import train_test_split\n",
    "X_train, X_test, y_train, y_test = train_test_split(features, transcripts, test_size=0.2, random_state=42)"
   ]
  }
 ],
 "metadata": {
  "kernelspec": {
   "display_name": "Python 3 (ipykernel)",
   "language": "python",
   "name": "python3"
  },
  "language_info": {
   "codemirror_mode": {
    "name": "ipython",
    "version": 3
   },
   "file_extension": ".py",
   "mimetype": "text/x-python",
   "name": "python",
   "nbconvert_exporter": "python",
   "pygments_lexer": "ipython3",
   "version": "3.9.18"
  }
 },
 "nbformat": 4,
 "nbformat_minor": 5
}
